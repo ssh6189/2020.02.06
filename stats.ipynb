{
 "cells": [
  {
   "cell_type": "code",
   "execution_count": 39,
   "metadata": {
    "ExecuteTime": {
     "end_time": "2020-02-07T00:01:31.990244Z",
     "start_time": "2020-02-07T00:01:31.983309Z"
    }
   },
   "outputs": [
    {
     "name": "stdout",
     "output_type": "stream",
     "text": [
      "4 4 8 9\n"
     ]
    }
   ],
   "source": [
    "import random\n",
    "\n",
    "a = 0\n",
    "b = 0\n",
    "c = 0\n",
    "d = 0\n",
    "\n",
    "while(a+b+c+d != 25):\n",
    "    a = random.randint(4, 9)\n",
    "    b = random.randint(4, 9)\n",
    "    c = random.randint(4, 9)\n",
    "    d = random.randint(4, 9)\n",
    "\n",
    "class peo:\n",
    "    def __init__(self):\n",
    "        strs = 0\n",
    "        dex = 0\n",
    "        luk = 0\n",
    "        ints = 0\n",
    "        \n",
    "        \n",
    "p1 = peo() \n",
    "p2 = peo()\n",
    "\n",
    "p1.strs = a\n",
    "p1.dex = b\n",
    "p1.luk = c\n",
    "p1.ints = d\n",
    "\n",
    "print(p1.strs, p1.dex, p1.luk, p1.ints)"
   ]
  }
 ],
 "metadata": {
  "kernelspec": {
   "display_name": "Python 3",
   "language": "python",
   "name": "python3"
  },
  "language_info": {
   "codemirror_mode": {
    "name": "ipython",
    "version": 3
   },
   "file_extension": ".py",
   "mimetype": "text/x-python",
   "name": "python",
   "nbconvert_exporter": "python",
   "pygments_lexer": "ipython3",
   "version": "3.6.10"
  }
 },
 "nbformat": 4,
 "nbformat_minor": 4
}
